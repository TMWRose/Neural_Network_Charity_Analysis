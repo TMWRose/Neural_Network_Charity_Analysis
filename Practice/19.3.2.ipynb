{
 "cells": [
  {
   "cell_type": "code",
   "execution_count": 1,
   "id": "c0da89c0",
   "metadata": {},
   "outputs": [
    {
     "name": "stdout",
     "output_type": "stream",
     "text": [
      "Collecting tensorflow\n",
      "  Downloading tensorflow-2.10.0-cp39-cp39-win_amd64.whl (455.9 MB)\n",
      "Collecting google-pasta>=0.1.1\n",
      "  Using cached google_pasta-0.2.0-py3-none-any.whl (57 kB)\n",
      "Requirement already satisfied: packaging in c:\\users\\17027\\anaconda3\\lib\\site-packages (from tensorflow) (21.0)\n",
      "Collecting grpcio<2.0,>=1.24.3\n",
      "  Downloading grpcio-1.48.1-cp39-cp39-win_amd64.whl (3.6 MB)\n",
      "Collecting tensorflow-io-gcs-filesystem>=0.23.1\n",
      "  Downloading tensorflow_io_gcs_filesystem-0.27.0-cp39-cp39-win_amd64.whl (1.5 MB)\n",
      "Requirement already satisfied: setuptools in c:\\users\\17027\\anaconda3\\lib\\site-packages (from tensorflow) (58.0.4)\n",
      "Requirement already satisfied: six>=1.12.0 in c:\\users\\17027\\anaconda3\\lib\\site-packages (from tensorflow) (1.16.0)\n",
      "Requirement already satisfied: wrapt>=1.11.0 in c:\\users\\17027\\anaconda3\\lib\\site-packages (from tensorflow) (1.12.1)\n",
      "Collecting astunparse>=1.6.0\n",
      "  Using cached astunparse-1.6.3-py2.py3-none-any.whl (12 kB)\n",
      "Collecting gast<=0.4.0,>=0.2.1\n",
      "  Using cached gast-0.4.0-py3-none-any.whl (9.8 kB)\n",
      "Collecting libclang>=13.0.0\n",
      "  Using cached libclang-14.0.6-py2.py3-none-win_amd64.whl (14.2 MB)\n",
      "Requirement already satisfied: numpy>=1.20 in c:\\users\\17027\\anaconda3\\lib\\site-packages (from tensorflow) (1.20.3)\n",
      "Requirement already satisfied: h5py>=2.9.0 in c:\\users\\17027\\anaconda3\\lib\\site-packages (from tensorflow) (3.2.1)\n",
      "Collecting tensorboard<2.11,>=2.10\n",
      "  Using cached tensorboard-2.10.0-py3-none-any.whl (5.9 MB)\n",
      "Collecting termcolor>=1.1.0\n",
      "  Using cached termcolor-2.0.1-py3-none-any.whl (5.4 kB)\n",
      "Collecting keras-preprocessing>=1.1.1\n",
      "  Using cached Keras_Preprocessing-1.1.2-py2.py3-none-any.whl (42 kB)\n",
      "Collecting keras<2.11,>=2.10.0\n",
      "  Using cached keras-2.10.0-py2.py3-none-any.whl (1.7 MB)\n",
      "Collecting protobuf<3.20,>=3.9.2\n",
      "  Downloading protobuf-3.19.5-cp39-cp39-win_amd64.whl (895 kB)\n",
      "Collecting opt-einsum>=2.3.2\n",
      "  Using cached opt_einsum-3.3.0-py3-none-any.whl (65 kB)\n",
      "Collecting absl-py>=1.0.0\n",
      "  Using cached absl_py-1.2.0-py3-none-any.whl (123 kB)\n",
      "Requirement already satisfied: typing-extensions>=3.6.6 in c:\\users\\17027\\anaconda3\\lib\\site-packages (from tensorflow) (3.10.0.2)\n",
      "Collecting flatbuffers>=2.0\n",
      "  Using cached flatbuffers-2.0.7-py2.py3-none-any.whl (26 kB)\n",
      "Collecting tensorflow-estimator<2.11,>=2.10.0\n",
      "  Using cached tensorflow_estimator-2.10.0-py2.py3-none-any.whl (438 kB)\n",
      "Requirement already satisfied: wheel<1.0,>=0.23.0 in c:\\users\\17027\\anaconda3\\lib\\site-packages (from astunparse>=1.6.0->tensorflow) (0.37.0)\n",
      "Requirement already satisfied: requests<3,>=2.21.0 in c:\\users\\17027\\anaconda3\\lib\\site-packages (from tensorboard<2.11,>=2.10->tensorflow) (2.26.0)\n",
      "Requirement already satisfied: werkzeug>=1.0.1 in c:\\users\\17027\\anaconda3\\lib\\site-packages (from tensorboard<2.11,>=2.10->tensorflow) (2.0.2)\n",
      "Collecting google-auth-oauthlib<0.5,>=0.4.1\n",
      "  Using cached google_auth_oauthlib-0.4.6-py2.py3-none-any.whl (18 kB)\n",
      "Requirement already satisfied: markdown>=2.6.8 in c:\\users\\17027\\anaconda3\\lib\\site-packages (from tensorboard<2.11,>=2.10->tensorflow) (3.4.1)\n",
      "Collecting tensorboard-plugin-wit>=1.6.0\n",
      "  Using cached tensorboard_plugin_wit-1.8.1-py3-none-any.whl (781 kB)\n",
      "Collecting google-auth<3,>=1.6.3\n",
      "  Downloading google_auth-2.11.1-py2.py3-none-any.whl (167 kB)\n",
      "Collecting tensorboard-data-server<0.7.0,>=0.6.0\n",
      "  Using cached tensorboard_data_server-0.6.1-py3-none-any.whl (2.4 kB)\n",
      "Collecting rsa<5,>=3.1.4\n",
      "  Downloading rsa-4.9-py3-none-any.whl (34 kB)\n",
      "Collecting cachetools<6.0,>=2.0.0\n",
      "  Downloading cachetools-5.2.0-py3-none-any.whl (9.3 kB)\n",
      "Collecting pyasn1-modules>=0.2.1\n",
      "  Downloading pyasn1_modules-0.2.8-py2.py3-none-any.whl (155 kB)\n",
      "Collecting requests-oauthlib>=0.7.0\n",
      "  Using cached requests_oauthlib-1.3.1-py2.py3-none-any.whl (23 kB)\n",
      "Requirement already satisfied: importlib-metadata>=4.4 in c:\\users\\17027\\anaconda3\\lib\\site-packages (from markdown>=2.6.8->tensorboard<2.11,>=2.10->tensorflow) (4.8.1)\n",
      "Requirement already satisfied: zipp>=0.5 in c:\\users\\17027\\anaconda3\\lib\\site-packages (from importlib-metadata>=4.4->markdown>=2.6.8->tensorboard<2.11,>=2.10->tensorflow) (3.6.0)\n",
      "Collecting pyasn1<0.5.0,>=0.4.6\n",
      "  Downloading pyasn1-0.4.8-py2.py3-none-any.whl (77 kB)\n",
      "Requirement already satisfied: certifi>=2017.4.17 in c:\\users\\17027\\anaconda3\\lib\\site-packages (from requests<3,>=2.21.0->tensorboard<2.11,>=2.10->tensorflow) (2021.10.8)\n",
      "Requirement already satisfied: charset-normalizer~=2.0.0 in c:\\users\\17027\\anaconda3\\lib\\site-packages (from requests<3,>=2.21.0->tensorboard<2.11,>=2.10->tensorflow) (2.0.4)\n",
      "Requirement already satisfied: idna<4,>=2.5 in c:\\users\\17027\\anaconda3\\lib\\site-packages (from requests<3,>=2.21.0->tensorboard<2.11,>=2.10->tensorflow) (3.2)\n",
      "Requirement already satisfied: urllib3<1.27,>=1.21.1 in c:\\users\\17027\\anaconda3\\lib\\site-packages (from requests<3,>=2.21.0->tensorboard<2.11,>=2.10->tensorflow) (1.26.7)\n",
      "Collecting oauthlib>=3.0.0\n",
      "  Using cached oauthlib-3.2.1-py3-none-any.whl (151 kB)\n",
      "Requirement already satisfied: pyparsing>=2.0.2 in c:\\users\\17027\\anaconda3\\lib\\site-packages (from packaging->tensorflow) (3.0.4)\n",
      "Installing collected packages: pyasn1, rsa, pyasn1-modules, oauthlib, cachetools, requests-oauthlib, google-auth, tensorboard-plugin-wit, tensorboard-data-server, protobuf, grpcio, google-auth-oauthlib, absl-py, termcolor, tensorflow-io-gcs-filesystem, tensorflow-estimator, tensorboard, opt-einsum, libclang, keras-preprocessing, keras, google-pasta, gast, flatbuffers, astunparse, tensorflow\n",
      "Successfully installed absl-py-1.2.0 astunparse-1.6.3 cachetools-5.2.0 flatbuffers-2.0.7 gast-0.4.0 google-auth-2.11.1 google-auth-oauthlib-0.4.6 google-pasta-0.2.0 grpcio-1.48.1 keras-2.10.0 keras-preprocessing-1.1.2 libclang-14.0.6 oauthlib-3.2.1 opt-einsum-3.3.0 protobuf-3.19.5 pyasn1-0.4.8 pyasn1-modules-0.2.8 requests-oauthlib-1.3.1 rsa-4.9 tensorboard-2.10.0 tensorboard-data-server-0.6.1 tensorboard-plugin-wit-1.8.1 tensorflow-2.10.0 tensorflow-estimator-2.10.0 tensorflow-io-gcs-filesystem-0.27.0 termcolor-2.0.1\n",
      "Note: you may need to restart the kernel to use updated packages.\n"
     ]
    }
   ],
   "source": [
    "pip install --upgrade tensorflow"
   ]
  },
  {
   "cell_type": "code",
   "execution_count": 2,
   "id": "dc844c54",
   "metadata": {},
   "outputs": [],
   "source": [
    "# Import our dependencies\n",
    "import pandas as pd\n",
    "import matplotlib as plt\n",
    "from sklearn.datasets import make_blobs\n",
    "import sklearn as skl\n",
    "import tensorflow as tf"
   ]
  },
  {
   "cell_type": "code",
   "execution_count": 3,
   "id": "7a484670",
   "metadata": {},
   "outputs": [
    {
     "data": {
      "text/plain": [
       "<AxesSubplot:xlabel='Feature 1', ylabel='Feature 2'>"
      ]
     },
     "execution_count": 3,
     "metadata": {},
     "output_type": "execute_result"
    },
    {
     "data": {
      "image/png": "[encoded data removed]",
      "text/plain": [
       "<Figure size 432x288 with 2 Axes>"
      ]
     },
     "metadata": {
      "needs_background": "light"
     },
     "output_type": "display_data"
    }
   ],
   "source": [
    "# Generate dummy dataset\n",
    "X, y = make_blobs(n_samples=1000, centers=2, n_features=2, random_state=78)\n",
    "\n",
    "# Creating a DataFrame with the dummy data\n",
    "df = pd.DataFrame(X, columns=[\"Feature 1\", \"Feature 2\"])\n",
    "df[\"Target\"] = y\n",
    "\n",
    "# Plotting the dummy data\n",
    "df.plot.scatter(x=\"Feature 1\", y=\"Feature 2\", c=\"Target\", colormap=\"winter\")"
   ]
  },
  {
   "cell_type": "code",
   "execution_count": 5,
   "id": "a4521850",
   "metadata": {},
   "outputs": [],
   "source": [
    "# Use sklearn to split dataset\n",
    "from sklearn.model_selection import train_test_split\n",
    "X_train, X_test, y_train, y_test = train_test_split(X, y, random_state=78)"
   ]
  },
  {
   "cell_type": "code",
   "execution_count": 6,
   "id": "d2e44ba4",
   "metadata": {},
   "outputs": [],
   "source": [
    "# Create scaler instance\n",
    "X_scaler = skl.preprocessing.StandardScaler()\n",
    "\n",
    "# Fit the scaler\n",
    "X_scaler.fit(X_train)\n",
    "\n",
    "# Scale the data\n",
    "X_train_scaled = X_scaler.transform(X_train)\n",
    "X_test_scaled = X_scaler.transform(X_test)"
   ]
  },
  {
   "cell_type": "code",
   "execution_count": 7,
   "id": "bdc67ec3",
   "metadata": {},
   "outputs": [],
   "source": [
    "# Create the Keras Sequential model\n",
    "nn_model = tf.keras.models.Sequential()"
   ]
  },
  {
   "cell_type": "code",
   "execution_count": 8,
   "id": "9b754ae0",
   "metadata": {},
   "outputs": [],
   "source": [
    "# Add our first Dense layer, including the input layer\n",
    "nn_model.add(tf.keras.layers.Dense(units=1, activation=\"relu\", input_dim=2))"
   ]
  },
  {
   "cell_type": "code",
   "execution_count": 9,
   "id": "3ad4ca7f",
   "metadata": {},
   "outputs": [],
   "source": [
    "# Add the output layer that uses a probability activation function\n",
    "nn_model.add(tf.keras.layers.Dense(units=1, activation=\"sigmoid\"))"
   ]
  },
  {
   "cell_type": "code",
   "execution_count": 10,
   "id": "e5bfcd45",
   "metadata": {},
   "outputs": [
    {
     "name": "stdout",
     "output_type": "stream",
     "text": [
      "Model: \"sequential\"\n",
      "_________________________________________________________________\n",
      " Layer (type)                Output Shape              Param #   \n",
      "=================================================================\n",
      " dense (Dense)               (None, 1)                 3         \n",
      "                                                                 \n",
      " dense_1 (Dense)             (None, 1)                 2         \n",
      "                                                                 \n",
      "=================================================================\n",
      "Total params: 5\n",
      "Trainable params: 5\n",
      "Non-trainable params: 0\n",
      "_________________________________________________________________\n"
     ]
    }
   ],
   "source": [
    "# Check the structure of the Sequential model\n",
    "nn_model.summary()"
   ]
  },
  {
   "cell_type": "code",
   "execution_count": 11,
   "id": "6233e0f5",
   "metadata": {},
   "outputs": [],
   "source": [
    "# Compile the Sequential model together and customize metrics\n",
    "nn_model.compile(loss=\"binary_crossentropy\", optimizer=\"adam\", metrics=[\"accuracy\"])"
   ]
  },
  {
   "cell_type": "code",
   "execution_count": 12,
   "id": "c6ab4920",
   "metadata": {},
   "outputs": [
    {
     "name": "stdout",
     "output_type": "stream",
     "text": [
      "Epoch 1/100\n",
      "24/24 [==============================] - 0s 997us/step - loss: 0.5600 - accuracy: 0.8640\n",
      "Epoch 2/100\n",
      "24/24 [==============================] - 0s 1ms/step - loss: 0.5481 - accuracy: 0.8867\n",
      "Epoch 3/100\n",
      "24/24 [==============================] - 0s 1ms/step - loss: 0.5361 - accuracy: 0.8920\n",
      "Epoch 4/100\n",
      "24/24 [==============================] - 0s 1ms/step - loss: 0.5241 - accuracy: 0.8973\n",
      "Epoch 5/100\n",
      "24/24 [==============================] - 0s 996us/step - loss: 0.5119 - accuracy: 0.9027\n",
      "Epoch 6/100\n",
      "24/24 [==============================] - 0s 911us/step - loss: 0.4998 - accuracy: 0.9067\n",
      "Epoch 7/100\n",
      "24/24 [==============================] - 0s 912us/step - loss: 0.4880 - accuracy: 0.9133\n",
      "Epoch 8/100\n",
      "24/24 [==============================] - 0s 865us/step - loss: 0.4763 - accuracy: 0.9227\n",
      "Epoch 9/100\n",
      "24/24 [==============================] - 0s 902us/step - loss: 0.4649 - accuracy: 0.9240\n",
      "Epoch 10/100\n",
      "24/24 [==============================] - 0s 828us/step - loss: 0.4537 - accuracy: 0.9267\n",
      "Epoch 11/100\n",
      "24/24 [==============================] - 0s 876us/step - loss: 0.4428 - accuracy: 0.9333\n",
      "Epoch 12/100\n",
      "24/24 [==============================] - 0s 866us/step - loss: 0.4323 - accuracy: 0.9360\n",
      "Epoch 13/100\n",
      "24/24 [==============================] - 0s 979us/step - loss: 0.4220 - accuracy: 0.9440\n",
      "Epoch 14/100\n",
      "24/24 [==============================] - 0s 858us/step - loss: 0.4119 - accuracy: 0.9440\n",
      "Epoch 15/100\n",
      "24/24 [==============================] - 0s 834us/step - loss: 0.4021 - accuracy: 0.9453\n",
      "Epoch 16/100\n",
      "24/24 [==============================] - 0s 824us/step - loss: 0.3924 - accuracy: 0.9453\n",
      "Epoch 17/100\n",
      "24/24 [==============================] - 0s 928us/step - loss: 0.3832 - accuracy: 0.9480\n",
      "Epoch 18/100\n",
      "24/24 [==============================] - 0s 782us/step - loss: 0.3741 - accuracy: 0.9507\n",
      "Epoch 19/100\n",
      "24/24 [==============================] - 0s 931us/step - loss: 0.3651 - accuracy: 0.9507\n",
      "Epoch 20/100\n",
      "24/24 [==============================] - 0s 832us/step - loss: 0.3566 - accuracy: 0.9507\n",
      "Epoch 21/100\n",
      "24/24 [==============================] - 0s 867us/step - loss: 0.3482 - accuracy: 0.9547\n",
      "Epoch 22/100\n",
      "24/24 [==============================] - 0s 869us/step - loss: 0.3401 - accuracy: 0.9560\n",
      "Epoch 23/100\n",
      "24/24 [==============================] - 0s 868us/step - loss: 0.3321 - accuracy: 0.9573\n",
      "Epoch 24/100\n",
      "24/24 [==============================] - 0s 889us/step - loss: 0.3243 - accuracy: 0.9587\n",
      "Epoch 25/100\n",
      "24/24 [==============================] - 0s 911us/step - loss: 0.3167 - accuracy: 0.9600\n",
      "Epoch 26/100\n",
      "24/24 [==============================] - 0s 954us/step - loss: 0.3092 - accuracy: 0.9613\n",
      "Epoch 27/100\n",
      "24/24 [==============================] - 0s 954us/step - loss: 0.3021 - accuracy: 0.9627\n",
      "Epoch 28/100\n",
      "24/24 [==============================] - 0s 1ms/step - loss: 0.2950 - accuracy: 0.9653\n",
      "Epoch 29/100\n",
      "24/24 [==============================] - 0s 910us/step - loss: 0.2882 - accuracy: 0.9653\n",
      "Epoch 30/100\n",
      "24/24 [==============================] - 0s 954us/step - loss: 0.2816 - accuracy: 0.9693\n",
      "Epoch 31/100\n",
      "24/24 [==============================] - 0s 911us/step - loss: 0.2751 - accuracy: 0.9693\n",
      "Epoch 32/100\n",
      "24/24 [==============================] - 0s 954us/step - loss: 0.2688 - accuracy: 0.9693\n",
      "Epoch 33/100\n",
      "24/24 [==============================] - 0s 997us/step - loss: 0.2627 - accuracy: 0.9720\n",
      "Epoch 34/100\n",
      "24/24 [==============================] - 0s 1ms/step - loss: 0.2566 - accuracy: 0.9733\n",
      "Epoch 35/100\n",
      "24/24 [==============================] - 0s 997us/step - loss: 0.2508 - accuracy: 0.9760\n",
      "Epoch 36/100\n",
      "24/24 [==============================] - 0s 954us/step - loss: 0.2451 - accuracy: 0.9787\n",
      "Epoch 37/100\n",
      "24/24 [==============================] - 0s 954us/step - loss: 0.2395 - accuracy: 0.9800\n",
      "Epoch 38/100\n",
      "24/24 [==============================] - 0s 911us/step - loss: 0.2341 - accuracy: 0.9840\n",
      "Epoch 39/100\n",
      "24/24 [==============================] - 0s 997us/step - loss: 0.2288 - accuracy: 0.9853\n",
      "Epoch 40/100\n",
      "24/24 [==============================] - 0s 888us/step - loss: 0.2236 - accuracy: 0.9867\n",
      "Epoch 41/100\n",
      "24/24 [==============================] - 0s 954us/step - loss: 0.2186 - accuracy: 0.9880\n",
      "Epoch 42/100\n",
      "24/24 [==============================] - 0s 997us/step - loss: 0.2137 - accuracy: 0.9893\n",
      "Epoch 43/100\n",
      "24/24 [==============================] - 0s 954us/step - loss: 0.2090 - accuracy: 0.9907\n",
      "Epoch 44/100\n",
      "24/24 [==============================] - 0s 911us/step - loss: 0.2044 - accuracy: 0.9920\n",
      "Epoch 45/100\n",
      "24/24 [==============================] - 0s 954us/step - loss: 0.1999 - accuracy: 0.9920\n",
      "Epoch 46/100\n",
      "24/24 [==============================] - 0s 867us/step - loss: 0.1956 - accuracy: 0.9920\n",
      "Epoch 47/100\n",
      "24/24 [==============================] - 0s 910us/step - loss: 0.1914 - accuracy: 0.9920\n",
      "Epoch 48/100\n",
      "24/24 [==============================] - 0s 910us/step - loss: 0.1874 - accuracy: 0.9933\n",
      "Epoch 49/100\n",
      "24/24 [==============================] - 0s 836us/step - loss: 0.1833 - accuracy: 0.9933\n",
      "Epoch 50/100\n",
      "24/24 [==============================] - 0s 867us/step - loss: 0.1795 - accuracy: 0.9933\n",
      "Epoch 51/100\n",
      "24/24 [==============================] - 0s 800us/step - loss: 0.1756 - accuracy: 0.9947\n",
      "Epoch 52/100\n",
      "24/24 [==============================] - 0s 803us/step - loss: 0.1719 - accuracy: 0.9947\n",
      "Epoch 53/100\n",
      "24/24 [==============================] - 0s 773us/step - loss: 0.1684 - accuracy: 0.9947\n",
      "Epoch 54/100\n",
      "24/24 [==============================] - 0s 832us/step - loss: 0.1648 - accuracy: 0.9960\n",
      "Epoch 55/100\n",
      "24/24 [==============================] - 0s 781us/step - loss: 0.1614 - accuracy: 0.9960\n",
      "Epoch 56/100\n",
      "24/24 [==============================] - 0s 907us/step - loss: 0.1581 - accuracy: 0.9960\n",
      "Epoch 57/100\n",
      "24/24 [==============================] - 0s 851us/step - loss: 0.1549 - accuracy: 0.9960\n",
      "Epoch 58/100\n",
      "24/24 [==============================] - 0s 785us/step - loss: 0.1518 - accuracy: 0.9960\n",
      "Epoch 59/100\n",
      "24/24 [==============================] - 0s 846us/step - loss: 0.1486 - accuracy: 0.9960\n",
      "Epoch 60/100\n",
      "24/24 [==============================] - 0s 930us/step - loss: 0.1457 - accuracy: 0.9960\n",
      "Epoch 61/100\n",
      "24/24 [==============================] - 0s 824us/step - loss: 0.1428 - accuracy: 0.9960\n",
      "Epoch 62/100\n",
      "24/24 [==============================] - 0s 782us/step - loss: 0.1400 - accuracy: 0.9960\n",
      "Epoch 63/100\n",
      "24/24 [==============================] - 0s 882us/step - loss: 0.1373 - accuracy: 0.9960\n",
      "Epoch 64/100\n",
      "24/24 [==============================] - 0s 904us/step - loss: 0.1346 - accuracy: 0.9960\n",
      "Epoch 65/100\n",
      "24/24 [==============================] - 0s 867us/step - loss: 0.1320 - accuracy: 0.9960\n",
      "Epoch 66/100\n",
      "24/24 [==============================] - 0s 870us/step - loss: 0.1295 - accuracy: 0.9960\n",
      "Epoch 67/100\n",
      "24/24 [==============================] - 0s 803us/step - loss: 0.1271 - accuracy: 0.9960\n",
      "Epoch 68/100\n",
      "24/24 [==============================] - 0s 1ms/step - loss: 0.1246 - accuracy: 0.9960\n",
      "Epoch 69/100\n",
      "24/24 [==============================] - 0s 954us/step - loss: 0.1223 - accuracy: 0.9960\n",
      "Epoch 70/100\n",
      "24/24 [==============================] - 0s 997us/step - loss: 0.1201 - accuracy: 0.9960\n",
      "Epoch 71/100\n",
      "24/24 [==============================] - 0s 1ms/step - loss: 0.1179 - accuracy: 0.9960\n",
      "Epoch 72/100\n",
      "24/24 [==============================] - 0s 1ms/step - loss: 0.1157 - accuracy: 0.9960\n",
      "Epoch 73/100\n",
      "24/24 [==============================] - 0s 1ms/step - loss: 0.1136 - accuracy: 0.9973\n",
      "Epoch 74/100\n",
      "24/24 [==============================] - 0s 1ms/step - loss: 0.1115 - accuracy: 0.9987\n",
      "Epoch 75/100\n",
      "24/24 [==============================] - 0s 1ms/step - loss: 0.1096 - accuracy: 0.9987\n",
      "Epoch 76/100\n",
      "24/24 [==============================] - 0s 1ms/step - loss: 0.1076 - accuracy: 1.0000\n",
      "Epoch 77/100\n",
      "24/24 [==============================] - 0s 999us/step - loss: 0.1057 - accuracy: 1.0000\n",
      "Epoch 78/100\n",
      "24/24 [==============================] - 0s 1ms/step - loss: 0.1039 - accuracy: 1.0000\n",
      "Epoch 79/100\n",
      "24/24 [==============================] - 0s 954us/step - loss: 0.1021 - accuracy: 1.0000\n",
      "Epoch 80/100\n",
      "24/24 [==============================] - 0s 911us/step - loss: 0.1004 - accuracy: 1.0000\n",
      "Epoch 81/100\n"
     ]
    },
    {
     "name": "stdout",
     "output_type": "stream",
     "text": [
      "24/24 [==============================] - 0s 998us/step - loss: 0.0986 - accuracy: 1.0000\n",
      "Epoch 82/100\n",
      "24/24 [==============================] - 0s 1ms/step - loss: 0.0970 - accuracy: 1.0000\n",
      "Epoch 83/100\n",
      "24/24 [==============================] - 0s 997us/step - loss: 0.0954 - accuracy: 1.0000\n",
      "Epoch 84/100\n",
      "24/24 [==============================] - 0s 1ms/step - loss: 0.0938 - accuracy: 1.0000\n",
      "Epoch 85/100\n",
      "24/24 [==============================] - 0s 1ms/step - loss: 0.0922 - accuracy: 1.0000\n",
      "Epoch 86/100\n",
      "24/24 [==============================] - 0s 954us/step - loss: 0.0907 - accuracy: 1.0000\n",
      "Epoch 87/100\n",
      "24/24 [==============================] - 0s 954us/step - loss: 0.0892 - accuracy: 1.0000\n",
      "Epoch 88/100\n",
      "24/24 [==============================] - 0s 953us/step - loss: 0.0878 - accuracy: 1.0000\n",
      "Epoch 89/100\n",
      "24/24 [==============================] - 0s 911us/step - loss: 0.0864 - accuracy: 1.0000\n",
      "Epoch 90/100\n",
      "24/24 [==============================] - 0s 867us/step - loss: 0.0850 - accuracy: 1.0000\n",
      "Epoch 91/100\n",
      "24/24 [==============================] - 0s 839us/step - loss: 0.0836 - accuracy: 1.0000\n",
      "Epoch 92/100\n",
      "24/24 [==============================] - 0s 825us/step - loss: 0.0823 - accuracy: 1.0000\n",
      "Epoch 93/100\n",
      "24/24 [==============================] - 0s 954us/step - loss: 0.0810 - accuracy: 1.0000\n",
      "Epoch 94/100\n",
      "24/24 [==============================] - 0s 841us/step - loss: 0.0797 - accuracy: 1.0000\n",
      "Epoch 95/100\n",
      "24/24 [==============================] - 0s 834us/step - loss: 0.0785 - accuracy: 1.0000\n",
      "Epoch 96/100\n",
      "24/24 [==============================] - 0s 802us/step - loss: 0.0772 - accuracy: 1.0000\n",
      "Epoch 97/100\n",
      "24/24 [==============================] - 0s 867us/step - loss: 0.0760 - accuracy: 1.0000\n",
      "Epoch 98/100\n",
      "24/24 [==============================] - 0s 842us/step - loss: 0.0749 - accuracy: 1.0000\n",
      "Epoch 99/100\n",
      "24/24 [==============================] - 0s 876us/step - loss: 0.0737 - accuracy: 1.0000\n",
      "Epoch 100/100\n",
      "24/24 [==============================] - 0s 821us/step - loss: 0.0726 - accuracy: 1.0000\n"
     ]
    }
   ],
   "source": [
    "# Fit the model to the training data\n",
    "fit_model = nn_model.fit(X_train_scaled, y_train, epochs=100)"
   ]
  },
  {
   "cell_type": "code",
   "execution_count": 13,
   "id": "38aa2aa7",
   "metadata": {},
   "outputs": [
    {
     "data": {
      "text/plain": [
       "<AxesSubplot:>"
      ]
     },
     "execution_count": 13,
     "metadata": {},
     "output_type": "execute_result"
    },
    {
     "data": {
      "image/png": "[encoded data removed]",
      "text/plain": [
       "<Figure size 432x288 with 1 Axes>"
      ]
     },
     "metadata": {
      "needs_background": "light"
     },
     "output_type": "display_data"
    }
   ],
   "source": [
    "# Create a DataFrame containing training history\n",
    "history_df = pd.DataFrame(fit_model.history, index=range(1,len(fit_model.history[\"loss\"])+1))\n",
    "\n",
    "# Plot the loss\n",
    "history_df.plot(y=\"loss\")"
   ]
  },
  {
   "cell_type": "code",
   "execution_count": 14,
   "id": "12dacd13",
   "metadata": {},
   "outputs": [
    {
     "data": {
      "text/plain": [
       "<AxesSubplot:>"
      ]
     },
     "execution_count": 14,
     "metadata": {},
     "output_type": "execute_result"
    },
    {
     "data": {
      "image/png": "[encoded data removed]",
      "text/plain": [
       "<Figure size 432x288 with 1 Axes>"
      ]
     },
     "metadata": {
      "needs_background": "light"
     },
     "output_type": "display_data"
    }
   ],
   "source": [
    "# Plot the accuracy\n",
    "history_df.plot(y=\"accuracy\")"
   ]
  },
  {
   "cell_type": "code",
   "execution_count": 15,
   "id": "0f1b601a",
   "metadata": {},
   "outputs": [
    {
     "name": "stdout",
     "output_type": "stream",
     "text": [
      "8/8 - 0s - loss: 0.0735 - accuracy: 1.0000 - 122ms/epoch - 15ms/step\n",
      "Loss: 0.07351837307214737, Accuracy: 1.0\n"
     ]
    }
   ],
   "source": [
    "# Evaluate the model using the test data\n",
    "model_loss, model_accuracy = nn_model.evaluate(X_test_scaled,y_test,verbose=2)\n",
    "print(f\"Loss: {model_loss}, Accuracy: {model_accuracy}\")"
   ]
  },
  {
   "cell_type": "code",
   "execution_count": 16,
   "id": "ae5e51f8",
   "metadata": {},
   "outputs": [
    {
     "name": "stdout",
     "output_type": "stream",
     "text": [
      "1/1 [==============================] - 0s 68ms/step\n"
     ]
    },
    {
     "data": {
      "text/plain": [
       "array([[0],\n",
       "       [1],\n",
       "       [0],\n",
       "       [1],\n",
       "       [0],\n",
       "       [0],\n",
       "       [1],\n",
       "       [1],\n",
       "       [1],\n",
       "       [0]])"
      ]
     },
     "execution_count": 16,
     "metadata": {},
     "output_type": "execute_result"
    }
   ],
   "source": [
    "# Predict the classification of a new set of blob data\n",
    "new_X, new_Y = make_blobs(n_samples=10, centers=2, n_features=2, random_state=78)\n",
    "new_X_scaled = X_scaler.transform(new_X)\n",
    "(nn_model.predict(new_X_scaled) > 0.5).astype(\"int32\")"
   ]
  },
  {
   "cell_type": "code",
   "execution_count": 17,
   "id": "1d40dcd1",
   "metadata": {},
   "outputs": [
    {
     "data": {
      "text/plain": [
       "<AxesSubplot:xlabel='Feature 1', ylabel='Feature 2'>"
      ]
     },
     "execution_count": 17,
     "metadata": {},
     "output_type": "execute_result"
    },
    {
     "data": {
      "image/png": "[encoded data removed]",
      "text/plain": [
       "<Figure size 432x288 with 2 Axes>"
      ]
     },
     "metadata": {
      "needs_background": "light"
     },
     "output_type": "display_data"
    }
   ],
   "source": [
    "from sklearn.datasets import make_moons\n",
    "\n",
    "# Creating dummy nonlinear data\n",
    "X_moons, y_moons = make_moons(n_samples=1000, noise=0.08, random_state=78)\n",
    "\n",
    "# Transforming y_moons to a vertical vector\n",
    "y_moons = y_moons.reshape(-1, 1)\n",
    "\n",
    "# Creating a DataFrame to plot the nonlinear dummy data\n",
    "df_moons = pd.DataFrame(X_moons, columns=[\"Feature 1\", \"Feature 2\"])\n",
    "df_moons[\"Target\"] = y_moons\n",
    "\n",
    "# Plot the nonlinear dummy data\n",
    "df_moons.plot.scatter(x=\"Feature 1\",y=\"Feature 2\", c=\"Target\",colormap=\"winter\")"
   ]
  },
  {
   "cell_type": "code",
   "execution_count": 18,
   "id": "3727a100",
   "metadata": {},
   "outputs": [],
   "source": [
    "# Create training and testing sets\n",
    "X_moon_train, X_moon_test, y_moon_train, y_moon_test = train_test_split(\n",
    "    X_moons, y_moons, random_state=78\n",
    ")\n",
    "\n",
    "# Create the scaler instance\n",
    "X_moon_scaler = skl.preprocessing.StandardScaler()\n",
    "\n",
    "# Fit the scaler\n",
    "X_moon_scaler.fit(X_moon_train)\n",
    "\n",
    "# Scale the data\n",
    "X_moon_train_scaled = X_moon_scaler.transform(X_moon_train)\n",
    "X_moon_test_scaled = X_moon_scaler.transform(X_moon_test)"
   ]
  },
  {
   "cell_type": "code",
   "execution_count": 19,
   "id": "48867c34",
   "metadata": {},
   "outputs": [
    {
     "name": "stdout",
     "output_type": "stream",
     "text": [
      "Epoch 1/100\n",
      "24/24 [==============================] - 0s 1ms/step - loss: 1.1585 - accuracy: 0.4467\n",
      "Epoch 2/100\n",
      "24/24 [==============================] - 0s 1ms/step - loss: 1.0081 - accuracy: 0.4853\n",
      "Epoch 3/100\n",
      "24/24 [==============================] - 0s 1ms/step - loss: 0.9115 - accuracy: 0.5080\n",
      "Epoch 4/100\n",
      "24/24 [==============================] - 0s 848us/step - loss: 0.8426 - accuracy: 0.5253\n",
      "Epoch 5/100\n",
      "24/24 [==============================] - 0s 840us/step - loss: 0.7899 - accuracy: 0.5427\n",
      "Epoch 6/100\n",
      "24/24 [==============================] - 0s 837us/step - loss: 0.7451 - accuracy: 0.5547\n",
      "Epoch 7/100\n",
      "24/24 [==============================] - 0s 849us/step - loss: 0.7079 - accuracy: 0.5707\n",
      "Epoch 8/100\n",
      "24/24 [==============================] - 0s 802us/step - loss: 0.6745 - accuracy: 0.5827\n",
      "Epoch 9/100\n",
      "24/24 [==============================] - 0s 777us/step - loss: 0.6449 - accuracy: 0.6053\n",
      "Epoch 10/100\n",
      "24/24 [==============================] - 0s 796us/step - loss: 0.6185 - accuracy: 0.6187\n",
      "Epoch 11/100\n",
      "24/24 [==============================] - 0s 867us/step - loss: 0.5948 - accuracy: 0.6360\n",
      "Epoch 12/100\n",
      "24/24 [==============================] - 0s 956us/step - loss: 0.5737 - accuracy: 0.6413\n",
      "Epoch 13/100\n",
      "24/24 [==============================] - 0s 757us/step - loss: 0.5547 - accuracy: 0.6573\n",
      "Epoch 14/100\n",
      "24/24 [==============================] - 0s 756us/step - loss: 0.5372 - accuracy: 0.6627\n",
      "Epoch 15/100\n",
      "24/24 [==============================] - 0s 786us/step - loss: 0.5211 - accuracy: 0.6773\n",
      "Epoch 16/100\n",
      "24/24 [==============================] - 0s 872us/step - loss: 0.5063 - accuracy: 0.6867\n",
      "Epoch 17/100\n",
      "24/24 [==============================] - 0s 850us/step - loss: 0.4925 - accuracy: 0.6947\n",
      "Epoch 18/100\n",
      "24/24 [==============================] - 0s 887us/step - loss: 0.4796 - accuracy: 0.7067\n",
      "Epoch 19/100\n",
      "24/24 [==============================] - 0s 826us/step - loss: 0.4679 - accuracy: 0.7107\n",
      "Epoch 20/100\n",
      "24/24 [==============================] - 0s 849us/step - loss: 0.4565 - accuracy: 0.7253\n",
      "Epoch 21/100\n",
      "24/24 [==============================] - 0s 832us/step - loss: 0.4461 - accuracy: 0.7307\n",
      "Epoch 22/100\n",
      "24/24 [==============================] - 0s 911us/step - loss: 0.4361 - accuracy: 0.7347\n",
      "Epoch 23/100\n",
      "24/24 [==============================] - 0s 867us/step - loss: 0.4266 - accuracy: 0.7520\n",
      "Epoch 24/100\n",
      "24/24 [==============================] - 0s 1ms/step - loss: 0.4176 - accuracy: 0.7573\n",
      "Epoch 25/100\n",
      "24/24 [==============================] - 0s 997us/step - loss: 0.4091 - accuracy: 0.7693\n",
      "Epoch 26/100\n",
      "24/24 [==============================] - 0s 1ms/step - loss: 0.4009 - accuracy: 0.7760\n",
      "Epoch 27/100\n",
      "24/24 [==============================] - 0s 1ms/step - loss: 0.3932 - accuracy: 0.7813\n",
      "Epoch 28/100\n",
      "24/24 [==============================] - 0s 954us/step - loss: 0.3857 - accuracy: 0.7880\n",
      "Epoch 29/100\n",
      "24/24 [==============================] - 0s 999us/step - loss: 0.3787 - accuracy: 0.7933\n",
      "Epoch 30/100\n",
      "24/24 [==============================] - 0s 997us/step - loss: 0.3721 - accuracy: 0.8013\n",
      "Epoch 31/100\n",
      "24/24 [==============================] - 0s 1ms/step - loss: 0.3659 - accuracy: 0.8080\n",
      "Epoch 32/100\n",
      "24/24 [==============================] - 0s 1ms/step - loss: 0.3602 - accuracy: 0.8107\n",
      "Epoch 33/100\n",
      "24/24 [==============================] - 0s 996us/step - loss: 0.3548 - accuracy: 0.8147\n",
      "Epoch 34/100\n",
      "24/24 [==============================] - 0s 997us/step - loss: 0.3498 - accuracy: 0.8200\n",
      "Epoch 35/100\n",
      "24/24 [==============================] - 0s 997us/step - loss: 0.3451 - accuracy: 0.8227\n",
      "Epoch 36/100\n",
      "24/24 [==============================] - 0s 1ms/step - loss: 0.3407 - accuracy: 0.8253\n",
      "Epoch 37/100\n",
      "24/24 [==============================] - 0s 1ms/step - loss: 0.3366 - accuracy: 0.8280\n",
      "Epoch 38/100\n",
      "24/24 [==============================] - 0s 1ms/step - loss: 0.3328 - accuracy: 0.8293\n",
      "Epoch 39/100\n",
      "24/24 [==============================] - 0s 1ms/step - loss: 0.3293 - accuracy: 0.8307\n",
      "Epoch 40/100\n",
      "24/24 [==============================] - 0s 1ms/step - loss: 0.3260 - accuracy: 0.8333\n",
      "Epoch 41/100\n",
      "24/24 [==============================] - 0s 1ms/step - loss: 0.3228 - accuracy: 0.8333\n",
      "Epoch 42/100\n",
      "24/24 [==============================] - 0s 1ms/step - loss: 0.3197 - accuracy: 0.8373\n",
      "Epoch 43/100\n",
      "24/24 [==============================] - 0s 1ms/step - loss: 0.3168 - accuracy: 0.8387\n",
      "Epoch 44/100\n",
      "24/24 [==============================] - 0s 988us/step - loss: 0.3140 - accuracy: 0.8413\n",
      "Epoch 45/100\n",
      "24/24 [==============================] - 0s 841us/step - loss: 0.3114 - accuracy: 0.8467\n",
      "Epoch 46/100\n",
      "24/24 [==============================] - 0s 824us/step - loss: 0.3091 - accuracy: 0.8493\n",
      "Epoch 47/100\n",
      "24/24 [==============================] - 0s 824us/step - loss: 0.3066 - accuracy: 0.8507\n",
      "Epoch 48/100\n",
      "24/24 [==============================] - 0s 799us/step - loss: 0.3045 - accuracy: 0.8520\n",
      "Epoch 49/100\n",
      "24/24 [==============================] - 0s 861us/step - loss: 0.3024 - accuracy: 0.8587\n",
      "Epoch 50/100\n",
      "24/24 [==============================] - 0s 882us/step - loss: 0.3004 - accuracy: 0.8627\n",
      "Epoch 51/100\n",
      "24/24 [==============================] - 0s 846us/step - loss: 0.2986 - accuracy: 0.8640\n",
      "Epoch 52/100\n",
      "24/24 [==============================] - 0s 805us/step - loss: 0.2968 - accuracy: 0.8640\n",
      "Epoch 53/100\n",
      "24/24 [==============================] - 0s 868us/step - loss: 0.2952 - accuracy: 0.8667\n",
      "Epoch 54/100\n",
      "24/24 [==============================] - 0s 844us/step - loss: 0.2934 - accuracy: 0.8667\n",
      "Epoch 55/100\n",
      "24/24 [==============================] - 0s 854us/step - loss: 0.2919 - accuracy: 0.8680\n",
      "Epoch 56/100\n",
      "24/24 [==============================] - 0s 836us/step - loss: 0.2904 - accuracy: 0.8680\n",
      "Epoch 57/100\n",
      "24/24 [==============================] - 0s 859us/step - loss: 0.2889 - accuracy: 0.8680\n",
      "Epoch 58/100\n",
      "24/24 [==============================] - 0s 819us/step - loss: 0.2875 - accuracy: 0.8680\n",
      "Epoch 59/100\n",
      "24/24 [==============================] - 0s 870us/step - loss: 0.2863 - accuracy: 0.8720\n",
      "Epoch 60/100\n",
      "24/24 [==============================] - 0s 871us/step - loss: 0.2850 - accuracy: 0.8733\n",
      "Epoch 61/100\n",
      "24/24 [==============================] - 0s 846us/step - loss: 0.2838 - accuracy: 0.8733\n",
      "Epoch 62/100\n",
      "24/24 [==============================] - 0s 1ms/step - loss: 0.2827 - accuracy: 0.8747\n",
      "Epoch 63/100\n",
      "24/24 [==============================] - 0s 1ms/step - loss: 0.2816 - accuracy: 0.8773\n",
      "Epoch 64/100\n",
      "24/24 [==============================] - 0s 1ms/step - loss: 0.2805 - accuracy: 0.8773\n",
      "Epoch 65/100\n",
      "24/24 [==============================] - 0s 1ms/step - loss: 0.2796 - accuracy: 0.8787\n",
      "Epoch 66/100\n",
      "24/24 [==============================] - 0s 1ms/step - loss: 0.2786 - accuracy: 0.8800\n",
      "Epoch 67/100\n",
      "24/24 [==============================] - 0s 1ms/step - loss: 0.2776 - accuracy: 0.8800\n",
      "Epoch 68/100\n",
      "24/24 [==============================] - 0s 1ms/step - loss: 0.2768 - accuracy: 0.8813\n",
      "Epoch 69/100\n",
      "24/24 [==============================] - 0s 1ms/step - loss: 0.2759 - accuracy: 0.8813\n",
      "Epoch 70/100\n",
      "24/24 [==============================] - 0s 1ms/step - loss: 0.2751 - accuracy: 0.8813\n",
      "Epoch 71/100\n",
      "24/24 [==============================] - 0s 1ms/step - loss: 0.2744 - accuracy: 0.8827\n",
      "Epoch 72/100\n",
      "24/24 [==============================] - 0s 1ms/step - loss: 0.2737 - accuracy: 0.8840\n",
      "Epoch 73/100\n",
      "24/24 [==============================] - 0s 1ms/step - loss: 0.2728 - accuracy: 0.8840\n",
      "Epoch 74/100\n",
      "24/24 [==============================] - 0s 1ms/step - loss: 0.2722 - accuracy: 0.8840\n",
      "Epoch 75/100\n",
      "24/24 [==============================] - 0s 1ms/step - loss: 0.2715 - accuracy: 0.8840\n",
      "Epoch 76/100\n",
      "24/24 [==============================] - 0s 997us/step - loss: 0.2708 - accuracy: 0.8840\n",
      "Epoch 77/100\n",
      "24/24 [==============================] - 0s 1ms/step - loss: 0.2702 - accuracy: 0.8853\n",
      "Epoch 78/100\n",
      "24/24 [==============================] - 0s 1ms/step - loss: 0.2696 - accuracy: 0.8853\n",
      "Epoch 79/100\n",
      "24/24 [==============================] - 0s 997us/step - loss: 0.2690 - accuracy: 0.8853\n",
      "Epoch 80/100\n",
      "24/24 [==============================] - 0s 999us/step - loss: 0.2686 - accuracy: 0.8867\n",
      "Epoch 81/100\n",
      "24/24 [==============================] - 0s 997us/step - loss: 0.2679 - accuracy: 0.8853\n",
      "Epoch 82/100\n"
     ]
    },
    {
     "name": "stdout",
     "output_type": "stream",
     "text": [
      "24/24 [==============================] - 0s 838us/step - loss: 0.2674 - accuracy: 0.8853\n",
      "Epoch 83/100\n",
      "24/24 [==============================] - 0s 779us/step - loss: 0.2669 - accuracy: 0.8867\n",
      "Epoch 84/100\n",
      "24/24 [==============================] - 0s 813us/step - loss: 0.2664 - accuracy: 0.8853\n",
      "Epoch 85/100\n",
      "24/24 [==============================] - 0s 809us/step - loss: 0.2659 - accuracy: 0.8853\n",
      "Epoch 86/100\n",
      "24/24 [==============================] - 0s 798us/step - loss: 0.2655 - accuracy: 0.8853\n",
      "Epoch 87/100\n",
      "24/24 [==============================] - 0s 842us/step - loss: 0.2650 - accuracy: 0.8853\n",
      "Epoch 88/100\n",
      "24/24 [==============================] - 0s 812us/step - loss: 0.2646 - accuracy: 0.8853\n",
      "Epoch 89/100\n",
      "24/24 [==============================] - 0s 808us/step - loss: 0.2642 - accuracy: 0.8867\n",
      "Epoch 90/100\n",
      "24/24 [==============================] - 0s 792us/step - loss: 0.2637 - accuracy: 0.8867\n",
      "Epoch 91/100\n",
      "24/24 [==============================] - 0s 766us/step - loss: 0.2634 - accuracy: 0.8867\n",
      "Epoch 92/100\n",
      "24/24 [==============================] - 0s 854us/step - loss: 0.2631 - accuracy: 0.8867\n",
      "Epoch 93/100\n",
      "24/24 [==============================] - 0s 867us/step - loss: 0.2626 - accuracy: 0.8880\n",
      "Epoch 94/100\n",
      "24/24 [==============================] - 0s 862us/step - loss: 0.2623 - accuracy: 0.8880\n",
      "Epoch 95/100\n",
      "24/24 [==============================] - 0s 790us/step - loss: 0.2619 - accuracy: 0.8880\n",
      "Epoch 96/100\n",
      "24/24 [==============================] - 0s 804us/step - loss: 0.2616 - accuracy: 0.8880\n",
      "Epoch 97/100\n",
      "24/24 [==============================] - 0s 777us/step - loss: 0.2613 - accuracy: 0.8880\n",
      "Epoch 98/100\n",
      "24/24 [==============================] - 0s 837us/step - loss: 0.2610 - accuracy: 0.8893\n",
      "Epoch 99/100\n",
      "24/24 [==============================] - 0s 832us/step - loss: 0.2607 - accuracy: 0.8893\n",
      "Epoch 100/100\n",
      "24/24 [==============================] - 0s 828us/step - loss: 0.2604 - accuracy: 0.8893\n"
     ]
    }
   ],
   "source": [
    "# Training the model with the nonlinear data\n",
    "model_moon = nn_model.fit(X_moon_train_scaled, y_moon_train, epochs=100, shuffle=True)"
   ]
  },
  {
   "cell_type": "code",
   "execution_count": 20,
   "id": "ab7fd8b5",
   "metadata": {},
   "outputs": [
    {
     "data": {
      "text/plain": [
       "<AxesSubplot:>"
      ]
     },
     "execution_count": 20,
     "metadata": {},
     "output_type": "execute_result"
    },
    {
     "data": {
      "image/png": "[encoded data removed]",
      "text/plain": [
       "<Figure size 432x288 with 1 Axes>"
      ]
     },
     "metadata": {
      "needs_background": "light"
     },
     "output_type": "display_data"
    }
   ],
   "source": [
    "# Create a DataFrame containing training history\n",
    "history_df = pd.DataFrame(model_moon.history, index=range(1,len(model_moon.history[\"loss\"])+1))\n",
    "\n",
    "# Plot the loss\n",
    "history_df.plot(y=\"loss\")"
   ]
  },
  {
   "cell_type": "code",
   "execution_count": 21,
   "id": "58c9a15c",
   "metadata": {},
   "outputs": [
    {
     "data": {
      "text/plain": [
       "<AxesSubplot:>"
      ]
     },
     "execution_count": 21,
     "metadata": {},
     "output_type": "execute_result"
    },
    {
     "data": {
      "image/png": "[encoded data removed]",
      "text/plain": [
       "<Figure size 432x288 with 1 Axes>"
      ]
     },
     "metadata": {
      "needs_background": "light"
     },
     "output_type": "display_data"
    }
   ],
   "source": [
    "# Plot the accuracy\n",
    "history_df.plot(y=\"accuracy\")"
   ]
  },
  {
   "cell_type": "code",
   "execution_count": 22,
   "id": "0450698e",
   "metadata": {},
   "outputs": [],
   "source": [
    "# Generate our new Sequential model\n",
    "new_model = tf.keras.models.Sequential()"
   ]
  },
  {
   "cell_type": "code",
   "execution_count": 23,
   "id": "dc962a84",
   "metadata": {},
   "outputs": [],
   "source": [
    "# Add the input and hidden layer\n",
    "number_inputs = 2\n",
    "number_hidden_nodes = 6\n",
    "\n",
    "new_model.add(tf.keras.layers.Dense(units=number_hidden_nodes, activation=\"relu\", input_dim=number_inputs))\n",
    "\n",
    "# Add the output layer that uses a probability activation function\n",
    "new_model.add(tf.keras.layers.Dense(units=1, activation=\"sigmoid\"))"
   ]
  },
  {
   "cell_type": "code",
   "execution_count": 24,
   "id": "e03f6713",
   "metadata": {},
   "outputs": [
    {
     "name": "stdout",
     "output_type": "stream",
     "text": [
      "Epoch 1/100\n",
      "24/24 [==============================] - 0s 1ms/step - loss: 0.6642 - accuracy: 0.6453\n",
      "Epoch 2/100\n",
      "24/24 [==============================] - 0s 1ms/step - loss: 0.6225 - accuracy: 0.7227\n",
      "Epoch 3/100\n",
      "24/24 [==============================] - 0s 867us/step - loss: 0.5847 - accuracy: 0.7693\n",
      "Epoch 4/100\n",
      "24/24 [==============================] - 0s 954us/step - loss: 0.5517 - accuracy: 0.8053\n",
      "Epoch 5/100\n",
      "24/24 [==============================] - 0s 954us/step - loss: 0.5207 - accuracy: 0.8267\n",
      "Epoch 6/100\n",
      "24/24 [==============================] - 0s 1ms/step - loss: 0.4918 - accuracy: 0.8373\n",
      "Epoch 7/100\n",
      "24/24 [==============================] - 0s 954us/step - loss: 0.4645 - accuracy: 0.8360\n",
      "Epoch 8/100\n",
      "24/24 [==============================] - 0s 997us/step - loss: 0.4391 - accuracy: 0.8453\n",
      "Epoch 9/100\n",
      "24/24 [==============================] - 0s 824us/step - loss: 0.4162 - accuracy: 0.8600\n",
      "Epoch 10/100\n",
      "24/24 [==============================] - 0s 911us/step - loss: 0.3951 - accuracy: 0.8640\n",
      "Epoch 11/100\n",
      "24/24 [==============================] - 0s 954us/step - loss: 0.3771 - accuracy: 0.8720\n",
      "Epoch 12/100\n",
      "24/24 [==============================] - 0s 1ms/step - loss: 0.3606 - accuracy: 0.8773\n",
      "Epoch 13/100\n",
      "24/24 [==============================] - 0s 824us/step - loss: 0.3464 - accuracy: 0.8773\n",
      "Epoch 14/100\n",
      "24/24 [==============================] - 0s 911us/step - loss: 0.3341 - accuracy: 0.8800\n",
      "Epoch 15/100\n",
      "24/24 [==============================] - 0s 868us/step - loss: 0.3232 - accuracy: 0.8813\n",
      "Epoch 16/100\n",
      "24/24 [==============================] - 0s 1ms/step - loss: 0.3138 - accuracy: 0.8813\n",
      "Epoch 17/100\n",
      "24/24 [==============================] - 0s 997us/step - loss: 0.3057 - accuracy: 0.8813\n",
      "Epoch 18/100\n",
      "24/24 [==============================] - 0s 1ms/step - loss: 0.2989 - accuracy: 0.8827\n",
      "Epoch 19/100\n",
      "24/24 [==============================] - 0s 1ms/step - loss: 0.2928 - accuracy: 0.8827\n",
      "Epoch 20/100\n",
      "24/24 [==============================] - 0s 1ms/step - loss: 0.2875 - accuracy: 0.8827\n",
      "Epoch 21/100\n",
      "24/24 [==============================] - 0s 1ms/step - loss: 0.2829 - accuracy: 0.8840\n",
      "Epoch 22/100\n",
      "24/24 [==============================] - 0s 977us/step - loss: 0.2789 - accuracy: 0.8867\n",
      "Epoch 23/100\n",
      "24/24 [==============================] - 0s 867us/step - loss: 0.2754 - accuracy: 0.8867\n",
      "Epoch 24/100\n",
      "24/24 [==============================] - 0s 911us/step - loss: 0.2721 - accuracy: 0.8880\n",
      "Epoch 25/100\n",
      "24/24 [==============================] - 0s 954us/step - loss: 0.2693 - accuracy: 0.8880\n",
      "Epoch 26/100\n",
      "24/24 [==============================] - 0s 867us/step - loss: 0.2667 - accuracy: 0.8880\n",
      "Epoch 27/100\n",
      "24/24 [==============================] - 0s 911us/step - loss: 0.2646 - accuracy: 0.8880\n",
      "Epoch 28/100\n",
      "24/24 [==============================] - 0s 867us/step - loss: 0.2623 - accuracy: 0.8893\n",
      "Epoch 29/100\n",
      "24/24 [==============================] - 0s 954us/step - loss: 0.2604 - accuracy: 0.8907\n",
      "Epoch 30/100\n",
      "24/24 [==============================] - 0s 997us/step - loss: 0.2586 - accuracy: 0.8907\n",
      "Epoch 31/100\n",
      "24/24 [==============================] - 0s 824us/step - loss: 0.2570 - accuracy: 0.8907\n",
      "Epoch 32/100\n",
      "24/24 [==============================] - 0s 1ms/step - loss: 0.2557 - accuracy: 0.8907\n",
      "Epoch 33/100\n",
      "24/24 [==============================] - 0s 947us/step - loss: 0.2542 - accuracy: 0.8907\n",
      "Epoch 34/100\n",
      "24/24 [==============================] - 0s 1ms/step - loss: 0.2529 - accuracy: 0.8907\n",
      "Epoch 35/100\n",
      "24/24 [==============================] - 0s 1ms/step - loss: 0.2517 - accuracy: 0.8907\n",
      "Epoch 36/100\n",
      "24/24 [==============================] - 0s 1ms/step - loss: 0.2504 - accuracy: 0.8907\n",
      "Epoch 37/100\n",
      "24/24 [==============================] - 0s 866us/step - loss: 0.2494 - accuracy: 0.8920\n",
      "Epoch 38/100\n",
      "24/24 [==============================] - 0s 1ms/step - loss: 0.2483 - accuracy: 0.8920\n",
      "Epoch 39/100\n",
      "24/24 [==============================] - 0s 1ms/step - loss: 0.2474 - accuracy: 0.8920\n",
      "Epoch 40/100\n",
      "24/24 [==============================] - 0s 1ms/step - loss: 0.2463 - accuracy: 0.8933\n",
      "Epoch 41/100\n",
      "24/24 [==============================] - 0s 1ms/step - loss: 0.2455 - accuracy: 0.8920\n",
      "Epoch 42/100\n",
      "24/24 [==============================] - 0s 1ms/step - loss: 0.2446 - accuracy: 0.8920\n",
      "Epoch 43/100\n",
      "24/24 [==============================] - 0s 911us/step - loss: 0.2437 - accuracy: 0.8947\n",
      "Epoch 44/100\n",
      "24/24 [==============================] - 0s 954us/step - loss: 0.2429 - accuracy: 0.8920\n",
      "Epoch 45/100\n",
      "24/24 [==============================] - 0s 997us/step - loss: 0.2422 - accuracy: 0.8933\n",
      "Epoch 46/100\n",
      "24/24 [==============================] - 0s 954us/step - loss: 0.2413 - accuracy: 0.8947\n",
      "Epoch 47/100\n",
      "24/24 [==============================] - 0s 954us/step - loss: 0.2406 - accuracy: 0.8947\n",
      "Epoch 48/100\n",
      "24/24 [==============================] - 0s 954us/step - loss: 0.2400 - accuracy: 0.8960\n",
      "Epoch 49/100\n",
      "24/24 [==============================] - 0s 997us/step - loss: 0.2393 - accuracy: 0.8960\n",
      "Epoch 50/100\n",
      "24/24 [==============================] - 0s 997us/step - loss: 0.2386 - accuracy: 0.8960\n",
      "Epoch 51/100\n",
      "24/24 [==============================] - 0s 954us/step - loss: 0.2379 - accuracy: 0.8947\n",
      "Epoch 52/100\n",
      "24/24 [==============================] - 0s 1ms/step - loss: 0.2374 - accuracy: 0.8947\n",
      "Epoch 53/100\n",
      "24/24 [==============================] - 0s 1ms/step - loss: 0.2367 - accuracy: 0.8947\n",
      "Epoch 54/100\n",
      "24/24 [==============================] - 0s 1ms/step - loss: 0.2362 - accuracy: 0.8947\n",
      "Epoch 55/100\n",
      "24/24 [==============================] - 0s 1ms/step - loss: 0.2355 - accuracy: 0.8960\n",
      "Epoch 56/100\n",
      "24/24 [==============================] - 0s 954us/step - loss: 0.2349 - accuracy: 0.8960\n",
      "Epoch 57/100\n",
      "24/24 [==============================] - 0s 1ms/step - loss: 0.2344 - accuracy: 0.8960\n",
      "Epoch 58/100\n",
      "24/24 [==============================] - 0s 1ms/step - loss: 0.2338 - accuracy: 0.8973\n",
      "Epoch 59/100\n",
      "24/24 [==============================] - 0s 955us/step - loss: 0.2332 - accuracy: 0.8960\n",
      "Epoch 60/100\n",
      "24/24 [==============================] - 0s 867us/step - loss: 0.2327 - accuracy: 0.8947\n",
      "Epoch 61/100\n",
      "24/24 [==============================] - 0s 911us/step - loss: 0.2322 - accuracy: 0.8960\n",
      "Epoch 62/100\n",
      "24/24 [==============================] - 0s 911us/step - loss: 0.2317 - accuracy: 0.8960\n",
      "Epoch 63/100\n",
      "24/24 [==============================] - 0s 906us/step - loss: 0.2313 - accuracy: 0.8960\n",
      "Epoch 64/100\n",
      "24/24 [==============================] - 0s 846us/step - loss: 0.2310 - accuracy: 0.8973\n",
      "Epoch 65/100\n",
      "24/24 [==============================] - 0s 905us/step - loss: 0.2305 - accuracy: 0.8960\n",
      "Epoch 66/100\n",
      "24/24 [==============================] - 0s 865us/step - loss: 0.2300 - accuracy: 0.8973\n",
      "Epoch 67/100\n",
      "24/24 [==============================] - 0s 841us/step - loss: 0.2297 - accuracy: 0.8973\n",
      "Epoch 68/100\n",
      "24/24 [==============================] - 0s 880us/step - loss: 0.2291 - accuracy: 0.8973\n",
      "Epoch 69/100\n",
      "24/24 [==============================] - 0s 770us/step - loss: 0.2288 - accuracy: 0.8973\n",
      "Epoch 70/100\n",
      "24/24 [==============================] - 0s 824us/step - loss: 0.2283 - accuracy: 0.8973\n",
      "Epoch 71/100\n",
      "24/24 [==============================] - 0s 856us/step - loss: 0.2279 - accuracy: 0.8973\n",
      "Epoch 72/100\n",
      "24/24 [==============================] - 0s 867us/step - loss: 0.2275 - accuracy: 0.8973\n",
      "Epoch 73/100\n",
      "24/24 [==============================] - 0s 800us/step - loss: 0.2272 - accuracy: 0.8973\n",
      "Epoch 74/100\n",
      "24/24 [==============================] - 0s 868us/step - loss: 0.2267 - accuracy: 0.8973\n",
      "Epoch 75/100\n",
      "24/24 [==============================] - 0s 897us/step - loss: 0.2263 - accuracy: 0.8960\n",
      "Epoch 76/100\n",
      "24/24 [==============================] - 0s 781us/step - loss: 0.2261 - accuracy: 0.8960\n",
      "Epoch 77/100\n",
      "24/24 [==============================] - 0s 820us/step - loss: 0.2255 - accuracy: 0.8973\n",
      "Epoch 78/100\n",
      "24/24 [==============================] - 0s 901us/step - loss: 0.2252 - accuracy: 0.8960\n",
      "Epoch 79/100\n",
      "24/24 [==============================] - 0s 871us/step - loss: 0.2248 - accuracy: 0.8960\n",
      "Epoch 80/100\n",
      "24/24 [==============================] - 0s 867us/step - loss: 0.2245 - accuracy: 0.8947\n",
      "Epoch 81/100\n"
     ]
    },
    {
     "name": "stdout",
     "output_type": "stream",
     "text": [
      "24/24 [==============================] - 0s 997us/step - loss: 0.2241 - accuracy: 0.8973\n",
      "Epoch 82/100\n",
      "24/24 [==============================] - 0s 997us/step - loss: 0.2235 - accuracy: 0.8973\n",
      "Epoch 83/100\n",
      "24/24 [==============================] - 0s 867us/step - loss: 0.2232 - accuracy: 0.8973\n",
      "Epoch 84/100\n",
      "24/24 [==============================] - 0s 867us/step - loss: 0.2228 - accuracy: 0.8973\n",
      "Epoch 85/100\n",
      "24/24 [==============================] - 0s 867us/step - loss: 0.2225 - accuracy: 0.8987\n",
      "Epoch 86/100\n",
      "24/24 [==============================] - 0s 867us/step - loss: 0.2221 - accuracy: 0.8987\n",
      "Epoch 87/100\n",
      "24/24 [==============================] - 0s 954us/step - loss: 0.2218 - accuracy: 0.8973\n",
      "Epoch 88/100\n",
      "24/24 [==============================] - 0s 911us/step - loss: 0.2215 - accuracy: 0.8987\n",
      "Epoch 89/100\n",
      "24/24 [==============================] - 0s 954us/step - loss: 0.2211 - accuracy: 0.8987\n",
      "Epoch 90/100\n",
      "24/24 [==============================] - 0s 954us/step - loss: 0.2208 - accuracy: 0.8987\n",
      "Epoch 91/100\n",
      "24/24 [==============================] - 0s 868us/step - loss: 0.2204 - accuracy: 0.8987\n",
      "Epoch 92/100\n",
      "24/24 [==============================] - 0s 824us/step - loss: 0.2202 - accuracy: 0.8987\n",
      "Epoch 93/100\n",
      "24/24 [==============================] - 0s 824us/step - loss: 0.2198 - accuracy: 0.8973\n",
      "Epoch 94/100\n",
      "24/24 [==============================] - 0s 999us/step - loss: 0.2196 - accuracy: 0.8987\n",
      "Epoch 95/100\n",
      "24/24 [==============================] - 0s 997us/step - loss: 0.2192 - accuracy: 0.8987\n",
      "Epoch 96/100\n",
      "24/24 [==============================] - 0s 912us/step - loss: 0.2188 - accuracy: 0.9000\n",
      "Epoch 97/100\n",
      "24/24 [==============================] - 0s 996us/step - loss: 0.2185 - accuracy: 0.9013\n",
      "Epoch 98/100\n",
      "24/24 [==============================] - 0s 954us/step - loss: 0.2181 - accuracy: 0.9000\n",
      "Epoch 99/100\n",
      "24/24 [==============================] - 0s 911us/step - loss: 0.2178 - accuracy: 0.9000\n",
      "Epoch 100/100\n",
      "24/24 [==============================] - 0s 954us/step - loss: 0.2174 - accuracy: 0.9013\n"
     ]
    }
   ],
   "source": [
    "# Compile the Sequential model together and customize metrics\n",
    "new_model.compile(loss=\"binary_crossentropy\", optimizer=\"adam\", metrics=[\"accuracy\"])\n",
    "\n",
    "# Fit the model to the training data\n",
    "new_fit_model = new_model.fit(X_moon_train_scaled, y_moon_train, epochs=100, shuffle=True)"
   ]
  },
  {
   "cell_type": "code",
   "execution_count": null,
   "id": "d5731011",
   "metadata": {},
   "outputs": [],
   "source": []
  }
 ],
 "metadata": {
  "kernelspec": {
   "display_name": "Python 3 (ipykernel)",
   "language": "python",
   "name": "python3"
  },
  "language_info": {
   "codemirror_mode": {
    "name": "ipython",
    "version": 3
   },
   "file_extension": ".py",
   "mimetype": "text/x-python",
   "name": "python",
   "nbconvert_exporter": "python",
   "pygments_lexer": "ipython3",
   "version": "3.9.7"
  }
 },
 "nbformat": 4,
 "nbformat_minor": 5
}
